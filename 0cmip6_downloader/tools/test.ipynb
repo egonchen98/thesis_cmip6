{
 "cells": [
  {
   "cell_type": "code",
   "execution_count": 1,
   "metadata": {
    "collapsed": true,
    "ExecuteTime": {
     "end_time": "2023-06-11T07:21:23.745642600Z",
     "start_time": "2023-06-11T07:21:22.830423900Z"
    }
   },
   "outputs": [],
   "source": [
    "import pandas as pd\n",
    "import download_cmip6\n",
    "import sys\n",
    "import xarray as xr\n",
    "\n",
    "import requests\n",
    "import colab\n",
    "from pathlib import Path\n",
    "import os\n",
    "import json\n",
    "import wget\n",
    "import random\n",
    "import pandas as pd\n",
    "import get_lost_files\n",
    "import download_cmip6\n",
    "\n",
    "%load_ext autoreload\n",
    "%autoreload 2"
   ]
  },
  {
   "cell_type": "code",
   "execution_count": 15,
   "outputs": [],
   "source": [
    "df = download_cmip6.run()\n",
    "df"
   ],
   "metadata": {
    "collapsed": false,
    "ExecuteTime": {
     "end_time": "2023-06-11T08:10:07.722276100Z",
     "start_time": "2023-06-11T08:10:07.569136700Z"
    }
   }
  },
  {
   "cell_type": "code",
   "execution_count": 14,
   "outputs": [
    {
     "data": {
      "text/plain": "WindowsPath('../resources/wget_files/test')"
     },
     "execution_count": 14,
     "metadata": {},
     "output_type": "execute_result"
    }
   ],
   "source": [
    "p1 = Path('../resources/wget_files')\n",
    "p1 / 'test'"
   ],
   "metadata": {
    "collapsed": false,
    "ExecuteTime": {
     "end_time": "2023-06-11T07:40:37.437049900Z",
     "start_time": "2023-06-11T07:40:37.310934400Z"
    }
   }
  }
 ],
 "metadata": {
  "kernelspec": {
   "display_name": "Python 3",
   "language": "python",
   "name": "python3"
  },
  "language_info": {
   "codemirror_mode": {
    "name": "ipython",
    "version": 2
   },
   "file_extension": ".py",
   "mimetype": "text/x-python",
   "name": "python",
   "nbconvert_exporter": "python",
   "pygments_lexer": "ipython2",
   "version": "2.7.6"
  }
 },
 "nbformat": 4,
 "nbformat_minor": 0
}
